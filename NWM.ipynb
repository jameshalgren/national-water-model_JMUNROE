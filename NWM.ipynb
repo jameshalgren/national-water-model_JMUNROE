{
 "cells": [
  {
   "cell_type": "markdown",
   "id": "fdd2f5ac-4ab1-415d-b328-0f3503392aa6",
   "metadata": {},
   "source": [
    "# US hit by 1-in-1,000-year flood\n",
    "\n",
    "James Munroe, jmunroe@2i2c.org"
   ]
  },
  {
   "cell_type": "markdown",
   "id": "1539542d-2e8f-4c8c-bd2c-7c0538692c11",
   "metadata": {},
   "source": [
    "## From the evening news\n",
    "\n",
    "I was listening to the news tonight and learned that Dallas, TX is currently experiencing significant flooding.  For example, the Washington Post reports:\n",
    "\n",
    "https://www.washingtonpost.com/nation/2022/08/22/dallas-texas-flash-floods/\n",
    "\n",
    "> In some isolated areas, the rainfall totals would be considered a 1-in-1,000-year flood — a remarkable reversal given the dramatic drought that Dallas had faced for months. Several rainfall gauges recorded more than 10 inches. A record-breaking 3.01 inches of rain was also recorded in one hour at Dallas-Fort Worth International Airport.\n",
    "\n",
    "> The downpour marked the latest such flood in the past few weeks across the United States. In one week alone, three 1-in-1,000-year rain events occurred, inundating St. Louis, eastern Kentucky and southeastern Illinois. The term, often considered controversial in part because it’s misunderstood, is used to describe a rainfall event that is expected once every 1,000 years, meaning it has just a 0.1 percent chance of happening in any given year — but such events can occur much more frequently.\n",
    "\n",
    "> ...\n",
    "\n",
    "> One rain gauge in Harris County, Tex., tallied more than 14.9 inches of rain within just a 12-hour period, more than 40 percent of the area’s yearly rainfall, according to Jeff Lindner, a meteorologist for the county. Such rates of precipitation are nearly impossible for soils — not to mention impervious paved surfaces — to absorb without runoff that can cause flash flooding."
   ]
  },
  {
   "cell_type": "markdown",
   "id": "1431c6cc-e834-4cfd-b67f-e50d791ee93f",
   "metadata": {},
   "source": [
    "## National Water Model and the AWI-CIROH JupyterHub\n",
    "\n",
    "Considering that the AWI-CIROH now has a 2i2c managed JupyterHub running on Google Compute Platform and a signifant amount of [National Water Model](https://water.noaa.gov/about/nwm) data has already been made available on a bucket, I will explore this dataset by looking that some of the historical data for specific regions that have experienced intense rainfall and flooding recently."
   ]
  },
  {
   "cell_type": "code",
   "execution_count": null,
   "id": "6bab81ec-15fc-4657-a054-0c37961384e4",
   "metadata": {},
   "outputs": [],
   "source": []
  }
 ],
 "metadata": {
  "kernelspec": {
   "display_name": "Python 3 (ipykernel)",
   "language": "python",
   "name": "python3"
  },
  "language_info": {
   "codemirror_mode": {
    "name": "ipython",
    "version": 3
   },
   "file_extension": ".py",
   "mimetype": "text/x-python",
   "name": "python",
   "nbconvert_exporter": "python",
   "pygments_lexer": "ipython3",
   "version": "3.9.13"
  }
 },
 "nbformat": 4,
 "nbformat_minor": 5
}
